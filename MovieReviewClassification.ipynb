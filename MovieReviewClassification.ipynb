{
 "cells": [
  {
   "cell_type": "markdown",
   "id": "hindu-silly",
   "metadata": {},
   "source": [
    "# Movie Reviews Classification"
   ]
  },
  {
   "cell_type": "markdown",
   "id": "fleet-yesterday",
   "metadata": {},
   "source": [
    "#### Problem Statement II\n",
    "\n",
    "#### Classify movie reviews as positive or negative using the text of the review.\n",
    "\n",
    "This is an example of a binary—or two-class—classification, an important kind of machine\n",
    "learning problem.\n",
    "Use the IMDB Dataset that contains the text of 50,000 movie reviews from the Internet Movie\n",
    "Database . These are split into 25,000 reviews for training and 25,000 reviews for testing. The\n",
    "training and testing sets are balanced.\n",
    "Source -The IMDB dataset is available on  imdb reviews  or on TensorFlow datasets.\n",
    "You are free to use it with a python based platform of your choice ( e.g. Keras/TF, Pytorch,\n",
    "Pycharm etc) in a python environment. We expect that you include the required visualizations,\n",
    "comments and results as part of your python code.\n",
    "The solution MUST use a deep learning method and demonstrate near-SOTA accuracy."
   ]
  },
  {
   "cell_type": "code",
   "execution_count": 1,
   "id": "honest-horizontal",
   "metadata": {},
   "outputs": [],
   "source": [
    "## Imports\n",
    "\n",
    "import tensorflow as tf\n",
    "import tensorflow_datasets as tfds\n",
    "import tensorflow_hub as hub\n",
    "import matplotlib.pyplot as plt"
   ]
  },
  {
   "cell_type": "code",
   "execution_count": 2,
   "id": "rough-manhattan",
   "metadata": {},
   "outputs": [
    {
     "data": {
      "text/plain": [
       "'2.5.0'"
      ]
     },
     "execution_count": 2,
     "metadata": {},
     "output_type": "execute_result"
    }
   ],
   "source": [
    "# tensorflow version used\n",
    "tf.__version__"
   ]
  },
  {
   "cell_type": "code",
   "execution_count": 3,
   "id": "intellectual-blanket",
   "metadata": {},
   "outputs": [],
   "source": [
    "train_data, validation_data, test_data = tfds.load(name=\"imdb_reviews\",\n",
    "            split=('train[:60%]', 'train[60%:]', 'test'), as_supervised=True)"
   ]
  },
  {
   "cell_type": "markdown",
   "id": "tropical-jonathan",
   "metadata": {},
   "source": [
    "### Data Size"
   ]
  },
  {
   "cell_type": "code",
   "execution_count": 4,
   "id": "incomplete-louisiana",
   "metadata": {},
   "outputs": [
    {
     "name": "stdout",
     "output_type": "stream",
     "text": [
      "Training Data size   ::  15000\n",
      "Validation Data size ::  10000\n",
      "Testing Data size    ::  25000\n"
     ]
    }
   ],
   "source": [
    "print('Training Data size   :: ', len(train_data))\n",
    "print('Validation Data size :: ', len(validation_data))\n",
    "print('Testing Data size    :: ', len(test_data))"
   ]
  },
  {
   "cell_type": "markdown",
   "id": "pointed-strand",
   "metadata": {},
   "source": [
    "### Following is Sample batch of 3 reviews"
   ]
  },
  {
   "cell_type": "code",
   "execution_count": 5,
   "id": "double-dream",
   "metadata": {},
   "outputs": [],
   "source": [
    "train_examples_batch, train_labels_batch = next(iter(train_data.batch(3)))"
   ]
  },
  {
   "cell_type": "code",
   "execution_count": 6,
   "id": "needed-thong",
   "metadata": {},
   "outputs": [
    {
     "data": {
      "text/plain": [
       "<tf.Tensor: shape=(3,), dtype=string, numpy=\n",
       "array([b\"This was an absolutely terrible movie. Don't be lured in by Christopher Walken or Michael Ironside. Both are great actors, but this must simply be their worst role in history. Even their great acting could not redeem this movie's ridiculous storyline. This movie is an early nineties US propaganda piece. The most pathetic scenes were those when the Columbian rebels were making their cases for revolutions. Maria Conchita Alonso appeared phony, and her pseudo-love affair with Walken was nothing but a pathetic emotional plug in a movie that was devoid of any real meaning. I am disappointed that there are movies like this, ruining actor's like Christopher Walken's good name. I could barely sit through it.\",\n",
       "       b'I have been known to fall asleep during films, but this is usually due to a combination of things including, really tired, being warm and comfortable on the sette and having just eaten a lot. However on this occasion I fell asleep because the film was rubbish. The plot development was constant. Constantly slow and boring. Things seemed to happen, but with no explanation of what was causing them or why. I admit, I may have missed part of the film, but i watched the majority of it and everything just seemed to happen of its own accord without any real concern for anything else. I cant recommend this film at all.',\n",
       "       b'Mann photographs the Alberta Rocky Mountains in a superb fashion, and Jimmy Stewart and Walter Brennan give enjoyable performances as they always seem to do. <br /><br />But come on Hollywood - a Mountie telling the people of Dawson City, Yukon to elect themselves a marshal (yes a marshal!) and to enforce the law themselves, then gunfighters battling it out on the streets for control of the town? <br /><br />Nothing even remotely resembling that happened on the Canadian side of the border during the Klondike gold rush. Mr. Mann and company appear to have mistaken Dawson City for Deadwood, the Canadian North for the American Wild West.<br /><br />Canadian viewers be prepared for a Reefer Madness type of enjoyable howl with this ludicrous plot, or, to shake your head in disgust.'],\n",
       "      dtype=object)>"
      ]
     },
     "execution_count": 6,
     "metadata": {},
     "output_type": "execute_result"
    }
   ],
   "source": [
    "train_examples_batch"
   ]
  },
  {
   "cell_type": "markdown",
   "id": "necessary-documentation",
   "metadata": {},
   "source": [
    "### Following are labels for reviews\n",
    "#### 0 - Review is negative\n",
    "#### 1 - Review is positive"
   ]
  },
  {
   "cell_type": "code",
   "execution_count": 7,
   "id": "turkish-duration",
   "metadata": {},
   "outputs": [
    {
     "data": {
      "text/plain": [
       "<tf.Tensor: shape=(3,), dtype=int64, numpy=array([0, 0, 0], dtype=int64)>"
      ]
     },
     "execution_count": 7,
     "metadata": {},
     "output_type": "execute_result"
    }
   ],
   "source": [
    "train_labels_batch"
   ]
  },
  {
   "cell_type": "markdown",
   "id": "animal-milwaukee",
   "metadata": {},
   "source": [
    "### Using gnews-swivel-20dim \n",
    "#### Token based text embedding trained on English Google News 130GB corpus."
   ]
  },
  {
   "cell_type": "code",
   "execution_count": 8,
   "id": "verified-secretary",
   "metadata": {},
   "outputs": [],
   "source": [
    "pretrained_model = \"https://tfhub.dev/google/tf2-preview/gnews-swivel-20dim/1\"\n",
    "hub_layer = hub.KerasLayer(pretrained_model, input_shape=[], dtype=tf.string, trainable=True)"
   ]
  },
  {
   "cell_type": "code",
   "execution_count": 9,
   "id": "frequent-zimbabwe",
   "metadata": {},
   "outputs": [
    {
     "data": {
      "text/plain": [
       "<tf.Tensor: shape=(2,), dtype=string, numpy=\n",
       "array([b\"This was an absolutely terrible movie. Don't be lured in by Christopher Walken or Michael Ironside. Both are great actors, but this must simply be their worst role in history. Even their great acting could not redeem this movie's ridiculous storyline. This movie is an early nineties US propaganda piece. The most pathetic scenes were those when the Columbian rebels were making their cases for revolutions. Maria Conchita Alonso appeared phony, and her pseudo-love affair with Walken was nothing but a pathetic emotional plug in a movie that was devoid of any real meaning. I am disappointed that there are movies like this, ruining actor's like Christopher Walken's good name. I could barely sit through it.\",\n",
       "       b'I have been known to fall asleep during films, but this is usually due to a combination of things including, really tired, being warm and comfortable on the sette and having just eaten a lot. However on this occasion I fell asleep because the film was rubbish. The plot development was constant. Constantly slow and boring. Things seemed to happen, but with no explanation of what was causing them or why. I admit, I may have missed part of the film, but i watched the majority of it and everything just seemed to happen of its own accord without any real concern for anything else. I cant recommend this film at all.'],\n",
       "      dtype=object)>"
      ]
     },
     "execution_count": 9,
     "metadata": {},
     "output_type": "execute_result"
    }
   ],
   "source": [
    "train_examples_batch[:2]"
   ]
  },
  {
   "cell_type": "code",
   "execution_count": 10,
   "id": "light-chest",
   "metadata": {},
   "outputs": [
    {
     "data": {
      "text/plain": [
       "<tf.Tensor: shape=(2, 20), dtype=float32, numpy=\n",
       "array([[ 1.765786  , -3.882232  ,  3.9134233 , -1.5557289 , -3.3362343 ,\n",
       "        -1.7357955 , -1.9954445 ,  1.2989551 ,  5.081598  , -1.1041286 ,\n",
       "        -2.0503852 , -0.72675157, -0.65675956,  0.24436149, -3.7208383 ,\n",
       "         2.0954835 ,  2.2969332 , -2.0689783 , -2.9489717 , -1.1315987 ],\n",
       "       [ 1.8804485 , -2.5852382 ,  3.4066997 ,  1.0982676 , -4.056685  ,\n",
       "        -4.891284  , -2.785554  ,  1.3874227 ,  3.8476458 , -0.9256538 ,\n",
       "        -1.896706  ,  1.2113281 ,  0.11474707,  0.76209456, -4.8791065 ,\n",
       "         2.906149  ,  4.7087674 , -2.3652055 , -3.5015898 , -1.6390051 ]],\n",
       "      dtype=float32)>"
      ]
     },
     "execution_count": 10,
     "metadata": {},
     "output_type": "execute_result"
    }
   ],
   "source": [
    "hub_layer(train_examples_batch[:2])"
   ]
  },
  {
   "cell_type": "markdown",
   "id": "brazilian-colorado",
   "metadata": {},
   "source": [
    "### Keras Sequential Model\n",
    "![model](model.jpg)"
   ]
  },
  {
   "cell_type": "code",
   "execution_count": 11,
   "id": "meaningful-howard",
   "metadata": {},
   "outputs": [
    {
     "name": "stdout",
     "output_type": "stream",
     "text": [
      "Model: \"sequential\"\n",
      "_________________________________________________________________\n",
      "Layer (type)                 Output Shape              Param #   \n",
      "=================================================================\n",
      "keras_layer (KerasLayer)     (None, 20)                400020    \n",
      "_________________________________________________________________\n",
      "dense (Dense)                (None, 16)                336       \n",
      "_________________________________________________________________\n",
      "dense_1 (Dense)              (None, 1)                 17        \n",
      "=================================================================\n",
      "Total params: 400,373\n",
      "Trainable params: 400,373\n",
      "Non-trainable params: 0\n",
      "_________________________________________________________________\n"
     ]
    }
   ],
   "source": [
    "model = tf.keras.Sequential()\n",
    "\n",
    "# neural network layers\n",
    "model.add(hub_layer)\n",
    "model.add(tf.keras.layers.Dense(16,activation=\"relu\"))\n",
    "model.add(tf.keras.layers.Dense(1,activation=\"sigmoid\"))\n",
    "\n",
    "model.summary()"
   ]
  },
  {
   "cell_type": "markdown",
   "id": "exceptional-sydney",
   "metadata": {},
   "source": [
    "### Configuring the model "
   ]
  },
  {
   "cell_type": "code",
   "execution_count": 12,
   "id": "tender-frank",
   "metadata": {},
   "outputs": [],
   "source": [
    "model.compile(optimizer='adam',\n",
    "              loss='binary_crossentropy',\n",
    "              metrics=['accuracy'])"
   ]
  },
  {
   "cell_type": "markdown",
   "id": "green-wednesday",
   "metadata": {},
   "source": [
    "### Training the Model with 40 Epochs"
   ]
  },
  {
   "cell_type": "code",
   "execution_count": 13,
   "id": "exempt-electronics",
   "metadata": {
    "scrolled": false
   },
   "outputs": [
    {
     "name": "stdout",
     "output_type": "stream",
     "text": [
      "Epoch 1/40\n",
      "30/30 [==============================] - 4s 96ms/step - loss: 0.7071 - accuracy: 0.6209 - val_loss: 0.6565 - val_accuracy: 0.6441\n",
      "Epoch 2/40\n",
      "30/30 [==============================] - 3s 83ms/step - loss: 0.6079 - accuracy: 0.6822 - val_loss: 0.5874 - val_accuracy: 0.6974\n",
      "Epoch 3/40\n",
      "30/30 [==============================] - 3s 83ms/step - loss: 0.5552 - accuracy: 0.7224 - val_loss: 0.5475 - val_accuracy: 0.7346\n",
      "Epoch 4/40\n",
      "30/30 [==============================] - 2s 80ms/step - loss: 0.5184 - accuracy: 0.7548 - val_loss: 0.5184 - val_accuracy: 0.7578\n",
      "Epoch 5/40\n",
      "30/30 [==============================] - 2s 81ms/step - loss: 0.4871 - accuracy: 0.7779 - val_loss: 0.4906 - val_accuracy: 0.7782\n",
      "Epoch 6/40\n",
      "30/30 [==============================] - 2s 80ms/step - loss: 0.4564 - accuracy: 0.7999 - val_loss: 0.4659 - val_accuracy: 0.7952\n",
      "Epoch 7/40\n",
      "30/30 [==============================] - 2s 80ms/step - loss: 0.4273 - accuracy: 0.8174 - val_loss: 0.4426 - val_accuracy: 0.8080\n",
      "Epoch 8/40\n",
      "30/30 [==============================] - 2s 81ms/step - loss: 0.3994 - accuracy: 0.8307 - val_loss: 0.4221 - val_accuracy: 0.8149\n",
      "Epoch 9/40\n",
      "30/30 [==============================] - 2s 82ms/step - loss: 0.3723 - accuracy: 0.8460 - val_loss: 0.4007 - val_accuracy: 0.8267\n",
      "Epoch 10/40\n",
      "30/30 [==============================] - 3s 85ms/step - loss: 0.3467 - accuracy: 0.8611 - val_loss: 0.3833 - val_accuracy: 0.8348\n",
      "Epoch 11/40\n",
      "30/30 [==============================] - 3s 98ms/step - loss: 0.3225 - accuracy: 0.8745 - val_loss: 0.3679 - val_accuracy: 0.8419\n",
      "Epoch 12/40\n",
      "30/30 [==============================] - 3s 101ms/step - loss: 0.3013 - accuracy: 0.8851 - val_loss: 0.3556 - val_accuracy: 0.8439\n",
      "Epoch 13/40\n",
      "30/30 [==============================] - 4s 130ms/step - loss: 0.2795 - accuracy: 0.8946 - val_loss: 0.3423 - val_accuracy: 0.8513\n",
      "Epoch 14/40\n",
      "30/30 [==============================] - 3s 112ms/step - loss: 0.2595 - accuracy: 0.9046 - val_loss: 0.3331 - val_accuracy: 0.8569\n",
      "Epoch 15/40\n",
      "30/30 [==============================] - 3s 115ms/step - loss: 0.2425 - accuracy: 0.9111 - val_loss: 0.3254 - val_accuracy: 0.8592\n",
      "Epoch 16/40\n",
      "30/30 [==============================] - 3s 115ms/step - loss: 0.2254 - accuracy: 0.9181 - val_loss: 0.3195 - val_accuracy: 0.8635\n",
      "Epoch 17/40\n",
      "30/30 [==============================] - 3s 106ms/step - loss: 0.2109 - accuracy: 0.9237 - val_loss: 0.3148 - val_accuracy: 0.8659\n",
      "Epoch 18/40\n",
      "30/30 [==============================] - 3s 94ms/step - loss: 0.1966 - accuracy: 0.9304 - val_loss: 0.3124 - val_accuracy: 0.8676\n",
      "Epoch 19/40\n",
      "30/30 [==============================] - 3s 96ms/step - loss: 0.1837 - accuracy: 0.9361 - val_loss: 0.3100 - val_accuracy: 0.8684\n",
      "Epoch 20/40\n",
      "30/30 [==============================] - 3s 97ms/step - loss: 0.1714 - accuracy: 0.9421 - val_loss: 0.3097 - val_accuracy: 0.8700\n",
      "Epoch 21/40\n",
      "30/30 [==============================] - 3s 99ms/step - loss: 0.1602 - accuracy: 0.9462 - val_loss: 0.3100 - val_accuracy: 0.8688\n",
      "Epoch 22/40\n",
      "30/30 [==============================] - 3s 94ms/step - loss: 0.1499 - accuracy: 0.9510 - val_loss: 0.3118 - val_accuracy: 0.8708\n",
      "Epoch 23/40\n",
      "30/30 [==============================] - 3s 99ms/step - loss: 0.1388 - accuracy: 0.9567 - val_loss: 0.3153 - val_accuracy: 0.8713\n",
      "Epoch 24/40\n",
      "30/30 [==============================] - 2s 82ms/step - loss: 0.1302 - accuracy: 0.9591 - val_loss: 0.3155 - val_accuracy: 0.8712\n",
      "Epoch 25/40\n",
      "30/30 [==============================] - 2s 81ms/step - loss: 0.1201 - accuracy: 0.9641 - val_loss: 0.3179 - val_accuracy: 0.8718\n",
      "Epoch 26/40\n",
      "30/30 [==============================] - 2s 82ms/step - loss: 0.1127 - accuracy: 0.9664 - val_loss: 0.3237 - val_accuracy: 0.8703\n",
      "Epoch 27/40\n",
      "30/30 [==============================] - 2s 80ms/step - loss: 0.1047 - accuracy: 0.9708 - val_loss: 0.3261 - val_accuracy: 0.8739\n",
      "Epoch 28/40\n",
      "30/30 [==============================] - 2s 80ms/step - loss: 0.0975 - accuracy: 0.9734 - val_loss: 0.3314 - val_accuracy: 0.8722\n",
      "Epoch 29/40\n",
      "30/30 [==============================] - 2s 81ms/step - loss: 0.0899 - accuracy: 0.9759 - val_loss: 0.3385 - val_accuracy: 0.8715\n",
      "Epoch 30/40\n",
      "30/30 [==============================] - 3s 85ms/step - loss: 0.0834 - accuracy: 0.9787 - val_loss: 0.3437 - val_accuracy: 0.8724\n",
      "Epoch 31/40\n",
      "30/30 [==============================] - 2s 81ms/step - loss: 0.0770 - accuracy: 0.9803 - val_loss: 0.3504 - val_accuracy: 0.8706\n",
      "Epoch 32/40\n",
      "30/30 [==============================] - 3s 84ms/step - loss: 0.0714 - accuracy: 0.9823 - val_loss: 0.3573 - val_accuracy: 0.8693\n",
      "Epoch 33/40\n",
      "30/30 [==============================] - 2s 82ms/step - loss: 0.0662 - accuracy: 0.9840 - val_loss: 0.3652 - val_accuracy: 0.8677\n",
      "Epoch 34/40\n",
      "30/30 [==============================] - 2s 81ms/step - loss: 0.0609 - accuracy: 0.9870 - val_loss: 0.3747 - val_accuracy: 0.8666\n",
      "Epoch 35/40\n",
      "30/30 [==============================] - 2s 82ms/step - loss: 0.0563 - accuracy: 0.9885 - val_loss: 0.3816 - val_accuracy: 0.8672\n",
      "Epoch 36/40\n",
      "30/30 [==============================] - 2s 83ms/step - loss: 0.0517 - accuracy: 0.9905 - val_loss: 0.3901 - val_accuracy: 0.8656\n",
      "Epoch 37/40\n",
      "30/30 [==============================] - 2s 82ms/step - loss: 0.0477 - accuracy: 0.9918 - val_loss: 0.3983 - val_accuracy: 0.8642\n",
      "Epoch 38/40\n",
      "30/30 [==============================] - 3s 84ms/step - loss: 0.0440 - accuracy: 0.9931 - val_loss: 0.4081 - val_accuracy: 0.8631\n",
      "Epoch 39/40\n",
      "30/30 [==============================] - 2s 82ms/step - loss: 0.0407 - accuracy: 0.9937 - val_loss: 0.4158 - val_accuracy: 0.8633\n",
      "Epoch 40/40\n",
      "30/30 [==============================] - 2s 79ms/step - loss: 0.0372 - accuracy: 0.9955 - val_loss: 0.4257 - val_accuracy: 0.8612\n"
     ]
    }
   ],
   "source": [
    "history = model.fit(train_data.shuffle(10000).batch(512),\n",
    "          epochs=40,\n",
    "          validation_data=validation_data.batch(512),\n",
    "          verbose=1)"
   ]
  },
  {
   "cell_type": "markdown",
   "id": "civilian-addition",
   "metadata": {},
   "source": [
    "### Predicting 3 simple review sentences"
   ]
  },
  {
   "cell_type": "code",
   "execution_count": 14,
   "id": "unique-metallic",
   "metadata": {},
   "outputs": [
    {
     "data": {
      "text/plain": [
       "array([[2.1716893e-02],\n",
       "       [9.9997926e-01],\n",
       "       [2.9364228e-04]], dtype=float32)"
      ]
     },
     "execution_count": 14,
     "metadata": {},
     "output_type": "execute_result"
    }
   ],
   "source": [
    "model.predict([\"This is the worst movie I have ever seen\",\n",
    "              \"An excellent movie that I enjoyed a lot\",\n",
    "              \"how can one make such a horrible movie? there is no story, acting direction everything is very poor\"])"
   ]
  },
  {
   "cell_type": "markdown",
   "id": "saved-measure",
   "metadata": {},
   "source": [
    "### Predicting reviews outside the dataset\n"
   ]
  },
  {
   "cell_type": "markdown",
   "id": "brilliant-catering",
   "metadata": {},
   "source": [
    "#### 9 Star review of movie Tenet\n",
    "![9star](9star.png)\n",
    "#### Predicted value is about 0.9 i.e. review is positive just as the user rating. "
   ]
  },
  {
   "cell_type": "code",
   "execution_count": 15,
   "id": "personal-valentine",
   "metadata": {},
   "outputs": [
    {
     "data": {
      "text/plain": [
       "array([[0.9794344]], dtype=float32)"
      ]
     },
     "execution_count": 15,
     "metadata": {},
     "output_type": "execute_result"
    }
   ],
   "source": [
    "model.predict([\"\"\"It really confused me when I watched it yesterday. I can honestly say that I probably missed lots of \n",
    "                details even though it came around in the end and settled nicely. I am sure that people who dive into the \n",
    "                details will find these bits and pieces and time will help to digest the whole story. No matter you hate \n",
    "                it or love it but you have to admit that the movies from Nolan are simply so innovative which the current \n",
    "                movie industry simply cannot reproduce. He writes the story itself, he directs, chooses the actors, the \n",
    "                locations and he mainly uses real world setups instead of computer generated ones. He is so creative and \n",
    "                luckily does have the financial background to complete his plans. I think the main flaw of this movie that \n",
    "                the viewer can feel unsatisfied at the end due to the complex setup and this brutal backwards mechanics.\"\"\"])"
   ]
  },
  {
   "cell_type": "markdown",
   "id": "violent-stations",
   "metadata": {},
   "source": [
    "#### 1 Star review of movie Tenet\n",
    "![1star](1star.png)\n",
    "#### Predicted value is about 0.01 i.e. review is negative just as the user rating."
   ]
  },
  {
   "cell_type": "code",
   "execution_count": 16,
   "id": "related-candidate",
   "metadata": {},
   "outputs": [
    {
     "data": {
      "text/plain": [
       "array([[0.02783105]], dtype=float32)"
      ]
     },
     "execution_count": 16,
     "metadata": {},
     "output_type": "execute_result"
    }
   ],
   "source": [
    "model.predict([\"\"\"The movie started with a very intense \"Batman\" like opening. This movie showed promise the first twenty \n",
    "                minutes and even though nothing made sense, there was still hope that it would all be tied together and \n",
    "                all make sense. Unfortunately, hope was lost quickly and the plot disappeared into a endless past-future \n",
    "                alternate reality abyss and never came back. This movie lacked depth and seemed pretentious from Nolan. \n",
    "                A truly intellectual \"flex\" that surely he had no idea what was going on either. If there was one good \n",
    "                thing from Covid is- very few people have had to sit through this disaster of a movie.\"\"\"])"
   ]
  },
  {
   "cell_type": "code",
   "execution_count": 17,
   "id": "instructional-coverage",
   "metadata": {},
   "outputs": [
    {
     "data": {
      "text/plain": [
       "dict_keys(['loss', 'accuracy', 'val_loss', 'val_accuracy'])"
      ]
     },
     "execution_count": 17,
     "metadata": {},
     "output_type": "execute_result"
    }
   ],
   "source": [
    "history_dict = history.history\n",
    "history_dict.keys()"
   ]
  },
  {
   "cell_type": "markdown",
   "id": "neural-transportation",
   "metadata": {},
   "source": [
    "### Plotting Model Accuracy and Loss"
   ]
  },
  {
   "cell_type": "code",
   "execution_count": 18,
   "id": "killing-kenya",
   "metadata": {},
   "outputs": [
    {
     "data": {
      "image/png": "[encoded data removed]",
      "text/plain": [
       "<Figure size 432x288 with 1 Axes>"
      ]
     },
     "metadata": {
      "needs_background": "light"
     },
     "output_type": "display_data"
    }
   ],
   "source": [
    "# Plotting Training and Validation Loss\n",
    "\n",
    "acc = history_dict['accuracy']\n",
    "val_acc = history_dict['val_accuracy']\n",
    "loss = history_dict['loss']\n",
    "val_loss = history_dict['val_loss']\n",
    "\n",
    "epochs = range(1, len(acc) + 1)\n",
    "\n",
    "\n",
    "plt.plot(epochs, loss, 'b', label='Training loss')\n",
    "plt.plot(epochs, val_loss, 'g', label='Validation loss')\n",
    "plt.title('Training and Validation loss')\n",
    "plt.xlabel('Epochs')\n",
    "plt.ylabel('Loss')\n",
    "plt.legend()\n",
    "\n",
    "plt.show()"
   ]
  },
  {
   "cell_type": "code",
   "execution_count": 19,
   "id": "humanitarian-wholesale",
   "metadata": {},
   "outputs": [
    {
     "data": {
      "image/png": "[encoded data removed]",
      "text/plain": [
       "<Figure size 432x288 with 1 Axes>"
      ]
     },
     "metadata": {
      "needs_background": "light"
     },
     "output_type": "display_data"
    }
   ],
   "source": [
    "# Plotting Training and Validation Accuracy\n",
    "\n",
    "plt.clf()\n",
    "\n",
    "plt.plot(epochs, acc, 'b', label='Training acc')\n",
    "plt.plot(epochs, val_acc, 'g', label='Validation acc')\n",
    "plt.title('Training and Validation accuracy')\n",
    "plt.xlabel('Epochs')\n",
    "plt.ylabel('Accuracy')\n",
    "plt.legend()\n",
    "\n",
    "plt.show()"
   ]
  },
  {
   "cell_type": "markdown",
   "id": "significant-prize",
   "metadata": {},
   "source": [
    "### Model Analysis"
   ]
  },
  {
   "cell_type": "markdown",
   "id": "incorrect-bahrain",
   "metadata": {},
   "source": [
    "1. The input string is a review string that in converted into a 20 shape array of numbers generated by hub_layer. This string if further passed to ReLU layer and then to Sigmoid layer for output.\n",
    "2. The output of the neural network is probability where output near 0 signifies input string is a negative review and near 1 signifies input string is a positive review.\n",
    "3. This model was able to reach an accuracy of 87%.\n",
    "4. Analyzing the validation accuracy and loss plots, The model has an increase in accuracy and decrease in losses till Epoch 20. After epoch 20, It flattens in accuracy and increases in the losses."
   ]
  },
  {
   "cell_type": "markdown",
   "id": "comparable-carnival",
   "metadata": {},
   "source": [
    "### References\n",
    "\n",
    "1. https://tfhub.dev/google/tf2-preview/gnews-swivel-20dim/1\n",
    "2. https://www.tensorflow.org/api_docs/python/tf/nn/embedding_lookup_sparse\n",
    "3. https://paperswithcode.com/sota/sentiment-analysis-on-imdb\n",
    "4. https://www.kaggle.com/arunkumarramanan/awesome-ml-and-text-classification-movie-reviews"
   ]
  },
  {
   "cell_type": "code",
   "execution_count": null,
   "id": "palestinian-thailand",
   "metadata": {},
   "outputs": [],
   "source": []
  }
 ],
 "metadata": {
  "kernelspec": {
   "display_name": "Python 3",
   "language": "python",
   "name": "python3"
  },
  "language_info": {
   "codemirror_mode": {
    "name": "ipython",
    "version": 3
   },
   "file_extension": ".py",
   "mimetype": "text/x-python",
   "name": "python",
   "nbconvert_exporter": "python",
   "pygments_lexer": "ipython3",
   "version": "3.9.1"
  }
 },
 "nbformat": 4,
 "nbformat_minor": 5
}
